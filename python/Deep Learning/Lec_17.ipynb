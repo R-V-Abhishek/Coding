{
  "cells": [
    {
      "cell_type": "code",
      "execution_count": 2,
      "metadata": {
        "id": "aBp9gogJqLpk"
      },
      "outputs": [],
      "source": [
        "import torch\n",
        "import torch.nn as nn"
      ]
    },
    {
      "cell_type": "code",
      "execution_count": 3,
      "metadata": {
        "colab": {
          "base_uri": "https://localhost:8080/"
        },
        "id": "mhtD17hU_eL2",
        "outputId": "fb6f0dc5-1f96-46d8-dd3d-5eafb496fcac"
      },
      "outputs": [
        {
          "name": "stdout",
          "output_type": "stream",
          "text": [
            "cpu\n"
          ]
        }
      ],
      "source": [
        "device = torch.device(\"cuda\" if torch.cuda.is_available() else \"cpu\")\n",
        "print(device)\n",
        "\n",
        "x = torch.tensor([[1, 5, 6, 4, 3, 9, 5, 2, 0], [1, 8, 7, 3, 4, 5, 6, 7, 2]], dtype=torch.float).to(device)\n",
        "trg = torch.tensor([[1, 7, 4, 3, 5, 9, 2, 0], [1, 5, 6, 2, 4, 7, 6, 2]], dtype=torch.float).to(device)"
      ]
    },
    {
      "cell_type": "code",
      "execution_count": 4,
      "metadata": {
        "colab": {
          "base_uri": "https://localhost:8080/"
        },
        "id": "KG-3jjiucpZR",
        "outputId": "6dd7e9fa-909e-41bd-cb56-50018b7d7033"
      },
      "outputs": [
        {
          "name": "stdout",
          "output_type": "stream",
          "text": [
            "Normal Matrix Multiplication: tensor([[27, 33],\n",
            "        [60, 75]])\n",
            "Einsum Multiplication: tensor([[27, 33],\n",
            "        [60, 75]])\n"
          ]
        }
      ],
      "source": [
        "a = torch.tensor([[1,2,3], [4,5,6]])\n",
        "b = torch.tensor([[1,2], [4,5], [6,7]])\n",
        "# a.shape\n",
        "# b.shape\n",
        "mat_mul = a @ b\n",
        "einsum = torch.einsum(\"pq,qr->pr\", [a,b])\n",
        "print(f\"Normal Matrix Multiplication: {mat_mul}\")\n",
        "print(f\"Einsum Multiplication: {einsum}\")"
      ]
    },
    {
      "cell_type": "code",
      "execution_count": 5,
      "metadata": {
        "id": "1VHBbWHGqXi7"
      },
      "outputs": [],
      "source": [
        "class SelfAttention(nn.Module):\n",
        "    def __init__(self, embed_size, heads):\n",
        "        super(SelfAttention, self).__init__()\n",
        "        self.embed_size = embed_size\n",
        "        self.heads = heads\n",
        "        self.head_dim = embed_size // heads\n",
        "\n",
        "        assert (self.head_dim * heads == embed_size), \"Embedding size needs to be divisible by number of heads\"\n",
        "\n",
        "        self.values = nn.Linear(embed_size, embed_size, bias=False) #input:x, Linear(): xW, W is trainable\n",
        "        self.keys = nn.Linear(embed_size, embed_size, bias=False)\n",
        "        self.queries = nn.Linear(embed_size, embed_size, bias=False)\n",
        "        self.fc_out = nn.Linear(embed_size, embed_size, bias=False) #concat(head_ouputs).W_o\n",
        "\n",
        "    def forward(self, values, keys, query, mask=None):\n",
        "        #query = (N, query_len, embed_size)\n",
        "        N = query.shape[0] # Number of training examples\n",
        "\n",
        "        value_len, key_len, query_len = values.shape[1], keys.shape[1], query.shape[1]\n",
        "\n",
        "        values = self.values(values)  # (N, value_len, embed_size)\n",
        "        keys = self.keys(keys)  # (N, key_len, embed_size)\n",
        "        queries = self.queries(query)  # (N, query_len, embed_size)\n",
        "\n",
        "        # print(f\"values shape: {values.shape}\")\n",
        "\n",
        "        # Split the embedding into self.heads pieces\n",
        "        values = values.reshape(N, value_len, self.heads, self.head_dim) #self.head * self.head_dim = self.embed_size\n",
        "        keys = keys.reshape(N, key_len, self.heads, self.head_dim)\n",
        "        queries = queries.reshape(N, query_len, self.heads, self.head_dim)\n",
        "\n",
        "        # print(f\"values shape: {values.shape}\")\n",
        "        # queries shape: (N, query_len, heads, heads_dim) -> nqhd\n",
        "        # keys shape: (N, key_len, heads, heads_dim) -> nkhd\n",
        "        # attn_scores shape: (N, heads, query_len, key_len) -> nhqk\n",
        "\n",
        "        #Q: (N, n_tokens, d_k)\n",
        "        #K: (N, n_tokens, d_k)\n",
        "\n",
        "        attn_scores = torch.einsum(\"nqhd,nkhd->nhqk\", [queries, keys])\n",
        "\n",
        "        # print(f\"queries shape: {queries.shape}\")\n",
        "        # print(f\"keys shape: {keys.shape}\")\n",
        "        # print(f\"values shape: {values.shape}\")\n",
        "        # print(f\"attn_scores shape: {attn_scores.shape}\")\n",
        "        # Mask padded indices so their weights become 0\n",
        "        if mask is not None:\n",
        "            attn_scores = attn_scores.masked_fill(mask == 0, float(\"-1e20\"))\n",
        "\n",
        "        # Scale and Normalize\n",
        "        attention = torch.softmax(attn_scores / (self.head_dim ** (1 / 2)), dim=3)\n",
        "\n",
        "        # attention shape: (N, heads, query_len, key_len)\n",
        "        # values shape: (N, value_len, heads, heads_dim)\n",
        "        # out after matrix multiply: (N, query_len, heads, head_dim), then\n",
        "        # we reshape and concatenate the last two dimensions.\n",
        "        out = torch.einsum(\"nhql,nlhd->nqhd\", [attention, values]).reshape(N, query_len, self.heads * self.head_dim)\n",
        "\n",
        "        #print(f\"out attn_scores shape: {out.shape}\")\n",
        "\n",
        "        out = self.fc_out(out) # (N, query_len, embed_size)\n",
        "\n",
        "        return out"
      ]
    },
    {
      "cell_type": "code",
      "execution_count": 6,
      "metadata": {
        "id": "25Y16GCIqFSJ"
      },
      "outputs": [],
      "source": [
        "class TransformerBlock(nn.Module):\n",
        "    def __init__(self, embed_size, heads, dropout, forward_expansion):\n",
        "        super(TransformerBlock, self).__init__()\n",
        "        self.attention = SelfAttention(embed_size, heads)\n",
        "        self.norm1 = nn.LayerNorm(embed_size)\n",
        "        self.norm2 = nn.LayerNorm(embed_size)\n",
        "\n",
        "        self.feed_forward = nn.Sequential(\n",
        "            nn.Linear(embed_size, forward_expansion * embed_size),\n",
        "            nn.ReLU(),\n",
        "            nn.Linear(forward_expansion * embed_size, embed_size),\n",
        "        )\n",
        "\n",
        "        self.dropout = nn.Dropout(dropout)\n",
        "\n",
        "    def forward(self, value, key, query, mask):\n",
        "        attention = self.attention(value, key, query, mask)\n",
        "\n",
        "        x = self.dropout(self.norm1(attention + query))\n",
        "        forward = self.feed_forward(x)\n",
        "        out = self.dropout(self.norm2(forward + x))\n",
        "        return out"
      ]
    },
    {
      "cell_type": "code",
      "execution_count": 7,
      "metadata": {
        "id": "-YiEpCvtqtL3"
      },
      "outputs": [],
      "source": [
        "class Encoder(nn.Module):\n",
        "    def __init__(self, src_vocab_size, embed_size, num_layers, heads, device, forward_expansion, dropout, max_length):\n",
        "\n",
        "        super(Encoder, self).__init__()\n",
        "        self.embed_size = embed_size\n",
        "        self.device = device\n",
        "        self.word_embedding = nn.Embedding(src_vocab_size, embed_size)\n",
        "        self.position_embedding = nn.Embedding(max_length, embed_size)\n",
        "\n",
        "        self.layers = nn.ModuleList(\n",
        "            [\n",
        "                TransformerBlock(\n",
        "                    embed_size,\n",
        "                    heads,\n",
        "                    dropout=dropout,\n",
        "                    forward_expansion=forward_expansion,\n",
        "                )\n",
        "                for _ in range(num_layers)\n",
        "            ]\n",
        "        )\n",
        "\n",
        "        self.dropout = nn.Dropout(dropout)\n",
        "\n",
        "    def forward(self, x, mask):\n",
        "        N, seq_length = x.shape\n",
        "        positions = torch.arange(0, seq_length).expand(N, seq_length).to(self.device)\n",
        "        out = self.dropout(\n",
        "            (self.word_embedding(x) + self.position_embedding(positions))\n",
        "        )\n",
        "\n",
        "        # In the Encoder the query, key, value are all the same, it's in the decoder this will change.\n",
        "        for layer in self.layers:\n",
        "            out = layer(out, out, out, mask)\n",
        "\n",
        "        return out"
      ]
    },
    {
      "cell_type": "code",
      "execution_count": 8,
      "metadata": {
        "id": "Gmlb0KG-qjtw"
      },
      "outputs": [],
      "source": [
        "class DecoderBlock(nn.Module):\n",
        "    def __init__(self, embed_size, heads, forward_expansion, dropout, device):\n",
        "        super(DecoderBlock, self).__init__()\n",
        "        self.norm = nn.LayerNorm(embed_size)\n",
        "        self.attention = SelfAttention(embed_size, heads=heads)\n",
        "        self.transformer_block = TransformerBlock(\n",
        "            embed_size, heads, dropout, forward_expansion\n",
        "        )\n",
        "        self.dropout = nn.Dropout(dropout)\n",
        "\n",
        "    def forward(self, x, value, key, src_mask, trg_mask):\n",
        "        attention = self.attention(x, x, x, trg_mask)\n",
        "        query = self.dropout(self.norm(attention + x))\n",
        "        out = self.transformer_block(value, key, query, src_mask)\n",
        "        return out"
      ]
    },
    {
      "cell_type": "code",
      "execution_count": 9,
      "metadata": {
        "id": "668MIuAHq99R"
      },
      "outputs": [],
      "source": [
        "class Decoder(nn.Module):\n",
        "    def __init__(self, trg_vocab_size, embed_size, num_layers, heads, forward_expansion, dropout, device, max_length):\n",
        "        super(Decoder, self).__init__()\n",
        "        self.device = device\n",
        "        self.word_embedding = nn.Embedding(trg_vocab_size, embed_size)\n",
        "        self.position_embedding = nn.Embedding(max_length, embed_size)\n",
        "\n",
        "        self.layers = nn.ModuleList(\n",
        "            [\n",
        "                DecoderBlock(embed_size, heads, forward_expansion, dropout, device)\n",
        "                for _ in range(num_layers)\n",
        "            ]\n",
        "        )\n",
        "        self.fc_out = nn.Linear(embed_size, trg_vocab_size) #embed_dim -> vocab_size\n",
        "        self.dropout = nn.Dropout(dropout)\n",
        "\n",
        "    def forward(self, x, enc_out, src_mask, trg_mask):\n",
        "        N, seq_length = x.shape\n",
        "        positions = torch.arange(0, seq_length).expand(N, seq_length).to(self.device)\n",
        "        x = self.dropout((self.word_embedding(x) + self.position_embedding(positions)))\n",
        "\n",
        "        for layer in self.layers:\n",
        "            x = layer(x, enc_out, enc_out, src_mask, trg_mask)\n",
        "\n",
        "        out = self.fc_out(x)\n",
        "\n",
        "        return out"
      ]
    },
    {
      "cell_type": "code",
      "execution_count": 10,
      "metadata": {
        "id": "5mFAclHnrC9k"
      },
      "outputs": [],
      "source": [
        "class Transformer(nn.Module):\n",
        "    def __init__(self, src_vocab_size, trg_vocab_size, src_pad_idx, trg_pad_idx, embed_size=512, num_layers=6, forward_expansion=4, heads=8, dropout=0, device=\"cpu\", max_length=100):\n",
        "        super(Transformer, self).__init__()\n",
        "\n",
        "        self.encoder = Encoder(\n",
        "            src_vocab_size,\n",
        "            embed_size,\n",
        "            num_layers,\n",
        "            heads,\n",
        "            device,\n",
        "            forward_expansion,\n",
        "            dropout,\n",
        "            max_length,\n",
        "        )\n",
        "\n",
        "        self.decoder = Decoder(\n",
        "            trg_vocab_size,\n",
        "            embed_size,\n",
        "            num_layers,\n",
        "            heads,\n",
        "            forward_expansion,\n",
        "            dropout,\n",
        "            device,\n",
        "            max_length,\n",
        "        )\n",
        "\n",
        "        self.src_pad_idx = src_pad_idx #pad tokens\n",
        "        self.trg_pad_idx = trg_pad_idx #future token mask\n",
        "        self.device = device\n",
        "\n",
        "    def make_src_mask(self, src):\n",
        "        src_mask = (src != self.src_pad_idx).unsqueeze(1).unsqueeze(2)\n",
        "        # (N, 1, 1, src_len)\n",
        "        return src_mask.to(self.device)\n",
        "\n",
        "    def make_trg_mask(self, trg):\n",
        "        N, trg_len = trg.shape\n",
        "        trg_mask = torch.tril(torch.ones((trg_len, trg_len))).expand(\n",
        "            N, 1, trg_len, trg_len\n",
        "        )\n",
        "\n",
        "        return trg_mask.to(self.device)\n",
        "\n",
        "    def forward(self, src, trg):\n",
        "        src_mask = self.make_src_mask(src)\n",
        "        trg_mask = self.make_trg_mask(trg)\n",
        "        enc_src = self.encoder(src, src_mask)\n",
        "        out = self.decoder(trg, enc_src, src_mask, trg_mask)\n",
        "        return out\n"
      ]
    },
    {
      "cell_type": "markdown",
      "metadata": {
        "id": "qRp_BZqJrRXA"
      },
      "source": [
        "## Inference Example"
      ]
    },
    {
      "cell_type": "code",
      "execution_count": 12,
      "metadata": {
        "colab": {
          "base_uri": "https://localhost:8080/"
        },
        "id": "aCK66hSDqlRB",
        "outputId": "0279d072-757f-4b10-ad02-641559c936a5"
      },
      "outputs": [
        {
          "name": "stdout",
          "output_type": "stream",
          "text": [
            "cpu\n",
            "torch.Size([2, 7, 10])\n",
            "tensor([[[-0.0610,  0.0509,  0.8039, -0.1483,  0.0445,  0.2172,  0.0210,\n",
            "          -0.7367,  0.2108, -0.0354],\n",
            "         [ 0.0414, -1.0716,  0.5065, -0.4572, -0.1926,  0.2392, -0.5553,\n",
            "          -0.6328,  0.9629,  0.1336],\n",
            "         [ 0.1594,  0.9641,  0.1191, -0.4974, -0.1423, -0.1091, -0.3960,\n",
            "          -0.6006, -0.2752, -0.1889],\n",
            "         [ 0.5457,  0.1951,  0.6299, -0.3213, -0.5027, -0.5317,  0.1917,\n",
            "          -0.0707, -0.0390, -0.1449],\n",
            "         [-0.4385, -0.0857,  0.5594, -0.0761, -0.3441,  0.0645,  0.1140,\n",
            "           0.0806, -0.0418, -0.2425],\n",
            "         [-0.5954, -0.0957,  0.8107,  0.1950, -0.7013,  0.6258,  0.3009,\n",
            "          -0.5738, -0.3672,  0.1912],\n",
            "         [-0.0369,  0.8001,  0.4814, -0.3525, -0.2381,  0.0634, -0.2659,\n",
            "           0.5189,  0.3615,  0.0821]],\n",
            "\n",
            "        [[ 0.0496,  0.2715,  0.5682, -0.1139,  0.0262,  0.1689,  0.0963,\n",
            "          -0.7406,  0.1453,  0.2496],\n",
            "         [-0.0273, -0.0532,  0.0901, -0.1660, -0.2429,  0.4656, -0.6886,\n",
            "           0.2476,  0.4524,  0.2443],\n",
            "         [-0.3748,  1.1318,  0.5754, -0.8057,  0.0909,  0.1801,  0.4741,\n",
            "          -0.3311, -1.2319, -0.3103],\n",
            "         [ 0.8483,  1.0389,  0.3102, -0.0295, -0.3396, -0.2936, -0.4118,\n",
            "           0.0884, -0.5723,  0.1647],\n",
            "         [-0.4998,  0.8626, -0.0271, -0.0727, -0.0629,  0.1221, -0.2735,\n",
            "           0.0285, -0.0066, -0.7167],\n",
            "         [ 0.0824, -0.4102,  0.9836,  0.1712, -0.5089,  0.1248,  0.1129,\n",
            "          -1.2443,  0.2674,  0.2722],\n",
            "         [-0.5780,  1.0441,  0.9497, -1.1141, -0.2093,  0.7665,  0.8893,\n",
            "           0.4859, -0.1548, -0.6263]]], grad_fn=<ViewBackward0>)\n"
          ]
        }
      ],
      "source": [
        "device = torch.device(\"cuda\" if torch.cuda.is_available() else \"cpu\")\n",
        "print(device)\n",
        "\n",
        "x = torch.tensor([[1, 5, 6, 4, 3, 9, 5, 2, 0], [1, 8, 7, 3, 4, 5, 6, 7, 2]]).to(device)\n",
        "trg = torch.tensor([[1, 7, 4, 3, 5, 9, 2, 0], [1, 5, 6, 2, 4, 7, 6, 2]]).to(device)\n",
        "\n",
        "src_pad_idx = 0\n",
        "trg_pad_idx = 0\n",
        "src_vocab_size = 10\n",
        "trg_vocab_size = 10\n",
        "model = Transformer(src_vocab_size, trg_vocab_size, src_pad_idx, trg_pad_idx, device=device).to(device)\n",
        "out = model(x, trg[:, :-1])\n",
        "print(out.shape)\n",
        "print(out)"
      ]
    },
    {
      "cell_type": "code",
      "execution_count": null,
      "metadata": {},
      "outputs": [],
      "source": []
    }
  ],
  "metadata": {
    "colab": {
      "provenance": []
    },
    "kernelspec": {
      "display_name": "deep-learning",
      "language": "python",
      "name": "python3"
    },
    "language_info": {
      "codemirror_mode": {
        "name": "ipython",
        "version": 3
      },
      "file_extension": ".py",
      "mimetype": "text/x-python",
      "name": "python",
      "nbconvert_exporter": "python",
      "pygments_lexer": "ipython3",
      "version": "3.11.13"
    }
  },
  "nbformat": 4,
  "nbformat_minor": 0
}
