{
  "cells": [
    {
      "cell_type": "code",
      "execution_count": 1,
      "metadata": {
        "id": "VxAkWxF0660S"
      },
      "outputs": [],
      "source": [
        "import torch"
      ]
    },
    {
      "cell_type": "code",
      "execution_count": 2,
      "metadata": {
        "colab": {
          "base_uri": "https://localhost:8080/",
          "height": 36
        },
        "id": "pbF_hXBd7BTZ",
        "outputId": "7f47749b-79f1-434d-8155-a93c47dafb87"
      },
      "outputs": [
        {
          "data": {
            "text/plain": [
              "'2.8.0+cpu'"
            ]
          },
          "execution_count": 2,
          "metadata": {},
          "output_type": "execute_result"
        }
      ],
      "source": [
        "torch.__version__"
      ]
    },
    {
      "cell_type": "markdown",
      "metadata": {
        "id": "Nb41bbYm7Iv3"
      },
      "source": [
        "## Tensors"
      ]
    },
    {
      "cell_type": "markdown",
      "metadata": {
        "id": "48N5_r5e7M5g"
      },
      "source": [
        "## Creating Tensors"
      ]
    },
    {
      "cell_type": "code",
      "execution_count": 3,
      "metadata": {
        "colab": {
          "base_uri": "https://localhost:8080/"
        },
        "id": "YkXduOVo7LvB",
        "outputId": "0cb9b80c-7cb5-4ac4-8272-6b42f75ef61a"
      },
      "outputs": [
        {
          "data": {
            "text/plain": [
              "tensor(1)"
            ]
          },
          "execution_count": 3,
          "metadata": {},
          "output_type": "execute_result"
        }
      ],
      "source": [
        "# scalar - tensor with zero dimension\n",
        "tensor0 = torch.tensor(1)\n",
        "tensor0"
      ]
    },
    {
      "cell_type": "code",
      "execution_count": 4,
      "metadata": {
        "colab": {
          "base_uri": "https://localhost:8080/"
        },
        "id": "r2oc3jow_LUA",
        "outputId": "3f44c693-9bc5-495c-fc80-be291d9759d6"
      },
      "outputs": [
        {
          "data": {
            "text/plain": [
              "0"
            ]
          },
          "execution_count": 4,
          "metadata": {},
          "output_type": "execute_result"
        }
      ],
      "source": [
        "tensor0.ndim"
      ]
    },
    {
      "cell_type": "code",
      "execution_count": 5,
      "metadata": {
        "id": "0ILy0PjO8cd2"
      },
      "outputs": [],
      "source": [
        "# vector - tensor with one dimension\n",
        "tensor1 = torch.tensor([6,8,0,1,2])"
      ]
    },
    {
      "cell_type": "code",
      "execution_count": 6,
      "metadata": {
        "id": "ly0e5WnY9KTq"
      },
      "outputs": [],
      "source": [
        "# matrix - tensor with two dimensions\n",
        "tensor2 = torch.tensor([[0, 1, 7],[4, 2, 4]])"
      ]
    },
    {
      "cell_type": "code",
      "execution_count": 7,
      "metadata": {
        "colab": {
          "base_uri": "https://localhost:8080/"
        },
        "id": "fXl02Ra793nJ",
        "outputId": "47923c4e-3902-45b9-bba8-930e6e0c810c"
      },
      "outputs": [
        {
          "name": "stdout",
          "output_type": "stream",
          "text": [
            "vector:\n",
            "tensor([6, 8, 0, 1, 2])\tNo. of dimensions: 1\tShape: torch.Size([5])\n",
            "\n",
            "matirx:\n",
            "tensor([[0, 1, 7],\n",
            "        [4, 2, 4]])\tNo. of dimensions: 2\tShape: torch.Size([2, 3])\n",
            "\n"
          ]
        }
      ],
      "source": [
        "# Dimension and shape of a tensor\n",
        "print(f'vector:\\n{tensor1}\\tNo. of dimensions: {tensor1.ndim}\\tShape: {tensor1.shape}\\n')\n",
        "print(f'matirx:\\n{tensor2}\\tNo. of dimensions: {tensor2.dim()}\\tShape: {tensor2.size()}\\n')"
      ]
    },
    {
      "cell_type": "code",
      "execution_count": 8,
      "metadata": {
        "colab": {
          "base_uri": "https://localhost:8080/"
        },
        "id": "a7_CMUmBBAO9",
        "outputId": "a2944bba-f6fb-4906-bb50-27e0c7e4b37b"
      },
      "outputs": [
        {
          "data": {
            "text/plain": [
              "tensor([[0., 0., 0., 0.],\n",
              "        [0., 0., 0., 0.],\n",
              "        [0., 0., 0., 0.]])"
            ]
          },
          "execution_count": 8,
          "metadata": {},
          "output_type": "execute_result"
        }
      ],
      "source": [
        "# Alternate ways\n",
        "size = (3,4)\n",
        "\n",
        "tensor4 = torch.empty(size)\n",
        "tensor4"
      ]
    },
    {
      "cell_type": "code",
      "execution_count": 9,
      "metadata": {
        "colab": {
          "base_uri": "https://localhost:8080/"
        },
        "id": "snZPF0d9OZ6z",
        "outputId": "4e436caa-978a-4e79-a4ed-4b7ad475931c"
      },
      "outputs": [
        {
          "data": {
            "text/plain": [
              "tensor([[0.1065, 0.4716, 0.0918, 0.6351],\n",
              "        [0.5901, 0.9544, 0.4441, 0.8136],\n",
              "        [0.6350, 0.5958, 0.1952, 0.4542]])"
            ]
          },
          "execution_count": 9,
          "metadata": {},
          "output_type": "execute_result"
        }
      ],
      "source": [
        "tensor5 = torch.rand(size)\n",
        "tensor5"
      ]
    },
    {
      "cell_type": "code",
      "execution_count": 10,
      "metadata": {
        "colab": {
          "base_uri": "https://localhost:8080/"
        },
        "id": "jjOUp7UXObmF",
        "outputId": "a73714ac-96fd-4e9c-f46c-694cbeb193ba"
      },
      "outputs": [
        {
          "data": {
            "text/plain": [
              "tensor([[0., 0., 0., 0.],\n",
              "        [0., 0., 0., 0.],\n",
              "        [0., 0., 0., 0.]])"
            ]
          },
          "execution_count": 10,
          "metadata": {},
          "output_type": "execute_result"
        }
      ],
      "source": [
        "tensor6 = torch.zeros(size)\n",
        "tensor6"
      ]
    },
    {
      "cell_type": "code",
      "execution_count": 11,
      "metadata": {
        "colab": {
          "base_uri": "https://localhost:8080/"
        },
        "id": "5IO1tRGSOdPx",
        "outputId": "fff30bea-f9af-445d-94b4-f41eb5338259"
      },
      "outputs": [
        {
          "data": {
            "text/plain": [
              "tensor([[1., 1., 1., 1.],\n",
              "        [1., 1., 1., 1.],\n",
              "        [1., 1., 1., 1.]])"
            ]
          },
          "execution_count": 11,
          "metadata": {},
          "output_type": "execute_result"
        }
      ],
      "source": [
        "tensor7 = torch.ones(size)\n",
        "tensor7"
      ]
    },
    {
      "cell_type": "code",
      "execution_count": 12,
      "metadata": {
        "colab": {
          "base_uri": "https://localhost:8080/"
        },
        "id": "rtpZ4M45BeUZ",
        "outputId": "9ea3eeb3-66cb-4564-8b83-d11892bb5c49"
      },
      "outputs": [
        {
          "name": "stdout",
          "output_type": "stream",
          "text": [
            "tensor([[0.0534, 0.1381]])\n"
          ]
        },
        {
          "data": {
            "text/plain": [
              "torch.float32"
            ]
          },
          "execution_count": 12,
          "metadata": {},
          "output_type": "execute_result"
        }
      ],
      "source": [
        "# Check the datatype of a tensor\n",
        "tensor4 = torch.rand(1,2)\n",
        "print(tensor4)\n",
        "tensor4.dtype"
      ]
    },
    {
      "cell_type": "code",
      "execution_count": 13,
      "metadata": {
        "colab": {
          "base_uri": "https://localhost:8080/"
        },
        "id": "kdsZnnZtDqj5",
        "outputId": "d9ebb758-117e-4a58-8492-e9ea4e21d8ac"
      },
      "outputs": [
        {
          "name": "stdout",
          "output_type": "stream",
          "text": [
            "tensor([[0.5630, 0.4116]], dtype=torch.float16)\n"
          ]
        }
      ],
      "source": [
        "# Create a tensor with a specific datatype\n",
        "tensor5 = torch.rand(1, 2, dtype=torch.float16)\n",
        "print(tensor5)"
      ]
    },
    {
      "cell_type": "code",
      "execution_count": 14,
      "metadata": {
        "colab": {
          "base_uri": "https://localhost:8080/"
        },
        "id": "N1e_h_BMFrWx",
        "outputId": "3811b9bd-2fae-402c-8f29-d129dbb90e9c"
      },
      "outputs": [
        {
          "data": {
            "text/plain": [
              "tensor([[0.0534, 0.1381]], dtype=torch.float64)"
            ]
          },
          "execution_count": 14,
          "metadata": {},
          "output_type": "execute_result"
        }
      ],
      "source": [
        "# Changing the datatype of a tensor\n",
        "tensor4.type(torch.double)"
      ]
    },
    {
      "cell_type": "code",
      "execution_count": 15,
      "metadata": {
        "colab": {
          "base_uri": "https://localhost:8080/"
        },
        "id": "Yg0VpoWHPKLz",
        "outputId": "b13f8b3d-4d26-4ea5-99aa-14b11381d45c"
      },
      "outputs": [
        {
          "name": "stdout",
          "output_type": "stream",
          "text": [
            "[[9 3]\n",
            " [0 4]]\n",
            "tensor([[9, 3],\n",
            "        [0, 4]])\n",
            "tensor([[9, 3],\n",
            "        [0, 4]])\n"
          ]
        }
      ],
      "source": [
        "## Creating tensors from a numpy array\n",
        "import numpy as np\n",
        "\n",
        "example_array = np.array([[9,3],[0,4]])\n",
        "tensor8 = torch.from_numpy(example_array)\n",
        "\n",
        "tensor9 = torch.tensor(example_array)\n",
        "print(example_array)\n",
        "print(tensor8)\n",
        "print(tensor9)"
      ]
    },
    {
      "cell_type": "code",
      "execution_count": 16,
      "metadata": {
        "colab": {
          "base_uri": "https://localhost:8080/"
        },
        "id": "EmMVVt3dPkYW",
        "outputId": "6b4418a6-e516-4bfa-c6cc-9450c125744f"
      },
      "outputs": [
        {
          "name": "stdout",
          "output_type": "stream",
          "text": [
            "[[27  9]\n",
            " [ 0 12]]\n",
            "tensor([[27,  9],\n",
            "        [ 0, 12]])\n",
            "tensor([[9, 3],\n",
            "        [0, 4]])\n"
          ]
        }
      ],
      "source": [
        "example_array *= 3\n",
        "print(example_array)\n",
        "print(tensor8)\n",
        "print(tensor9)"
      ]
    },
    {
      "cell_type": "code",
      "execution_count": 17,
      "metadata": {
        "colab": {
          "base_uri": "https://localhost:8080/"
        },
        "id": "288BxfcMP2U_",
        "outputId": "23f587cb-8de2-4e70-a8d3-5f3ee230dbdb"
      },
      "outputs": [
        {
          "data": {
            "text/plain": [
              "tensor([[1, 1],\n",
              "        [1, 1]])"
            ]
          },
          "execution_count": 17,
          "metadata": {},
          "output_type": "execute_result"
        }
      ],
      "source": [
        "## Creating a tensor from another tensor\n",
        "tensor10 = torch.ones_like(tensor8)\n",
        "tensor10    "
      ]
    },
    {
      "cell_type": "code",
      "execution_count": 18,
      "metadata": {
        "id": "iH6Sa2jlUZ8Y"
      },
      "outputs": [],
      "source": [
        "# Device configuration\n",
        "device = torch.device('cuda' if torch.cuda.is_available() else 'cpu')\n",
        "\n",
        "tensor11 = torch.ones(3,7).to(device) # \"cpu\",\"cuda\"\n",
        "\n",
        "tensor11 = torch.zeros(3,7, device=device)"
      ]
    },
    {
      "cell_type": "markdown",
      "metadata": {
        "id": "r352kbJHcskd"
      },
      "source": [
        "## Accessing elements in a tensor"
      ]
    },
    {
      "cell_type": "code",
      "execution_count": 19,
      "metadata": {
        "colab": {
          "base_uri": "https://localhost:8080/"
        },
        "id": "xEAspSKTdp37",
        "outputId": "5297773e-e37f-4d4b-e278-1a88df8df0dd"
      },
      "outputs": [
        {
          "data": {
            "text/plain": [
              "tensor([[0, 1, 7],\n",
              "        [4, 2, 4]])"
            ]
          },
          "execution_count": 19,
          "metadata": {},
          "output_type": "execute_result"
        }
      ],
      "source": [
        "tensor2"
      ]
    },
    {
      "cell_type": "code",
      "execution_count": 20,
      "metadata": {
        "colab": {
          "base_uri": "https://localhost:8080/"
        },
        "id": "nzuzLupwcTTU",
        "outputId": "e299461c-9d2f-45bf-bcbe-7ad369290f02"
      },
      "outputs": [
        {
          "data": {
            "text/plain": [
              "2"
            ]
          },
          "execution_count": 20,
          "metadata": {},
          "output_type": "execute_result"
        }
      ],
      "source": [
        "tensor2.dim()"
      ]
    },
    {
      "cell_type": "code",
      "execution_count": 21,
      "metadata": {
        "colab": {
          "base_uri": "https://localhost:8080/"
        },
        "id": "5DItsJnJcYxP",
        "outputId": "d7da0082-17b0-48a9-f8f6-f61a1dd1e251"
      },
      "outputs": [
        {
          "data": {
            "text/plain": [
              "torch.Size([2, 3])"
            ]
          },
          "execution_count": 21,
          "metadata": {},
          "output_type": "execute_result"
        }
      ],
      "source": [
        "tensor2.size()"
      ]
    },
    {
      "cell_type": "code",
      "execution_count": 22,
      "metadata": {
        "colab": {
          "base_uri": "https://localhost:8080/"
        },
        "id": "AQOlC86qdxPw",
        "outputId": "af0fc208-6271-4058-e28d-992ff7dda76c"
      },
      "outputs": [
        {
          "data": {
            "text/plain": [
              "tensor([0, 1, 7])"
            ]
          },
          "execution_count": 22,
          "metadata": {},
          "output_type": "execute_result"
        }
      ],
      "source": [
        "tensor2[0]"
      ]
    },
    {
      "cell_type": "code",
      "execution_count": 23,
      "metadata": {
        "colab": {
          "base_uri": "https://localhost:8080/"
        },
        "id": "42nNMNoRd_fw",
        "outputId": "3f405b1a-501a-4cde-dcc6-193bba2f31af"
      },
      "outputs": [
        {
          "data": {
            "text/plain": [
              "tensor(4)"
            ]
          },
          "execution_count": 23,
          "metadata": {},
          "output_type": "execute_result"
        }
      ],
      "source": [
        "tensor2[1,0]"
      ]
    },
    {
      "cell_type": "code",
      "execution_count": 24,
      "metadata": {
        "colab": {
          "base_uri": "https://localhost:8080/"
        },
        "id": "mdXfEoFsQ8op",
        "outputId": "5d39d126-eb30-47dd-c830-30d4ae683e47"
      },
      "outputs": [
        {
          "data": {
            "text/plain": [
              "tensor([7, 4])"
            ]
          },
          "execution_count": 24,
          "metadata": {},
          "output_type": "execute_result"
        }
      ],
      "source": [
        "# Slicing\n",
        "tensor2[:, 2] # this will give us all the rows and only column 2"
      ]
    },
    {
      "cell_type": "code",
      "execution_count": 25,
      "metadata": {
        "colab": {
          "base_uri": "https://localhost:8080/"
        },
        "id": "tR15WnphRV2r",
        "outputId": "573f2ac9-97e6-4c59-f129-390d5fe9d60d"
      },
      "outputs": [
        {
          "data": {
            "text/plain": [
              "tensor([0, 1, 7])"
            ]
          },
          "execution_count": 25,
          "metadata": {},
          "output_type": "execute_result"
        }
      ],
      "source": [
        "tensor2[0, :] # this will give us only row 0 along with all columns"
      ]
    },
    {
      "cell_type": "markdown",
      "metadata": {
        "id": "izXBZNMqdq3L"
      },
      "source": [
        "## Basic Tensor Operations"
      ]
    },
    {
      "cell_type": "code",
      "execution_count": 26,
      "metadata": {
        "colab": {
          "base_uri": "https://localhost:8080/"
        },
        "id": "r4dPeipgLeCZ",
        "outputId": "625ad9a5-3597-4abb-ca18-6dc920c76364"
      },
      "outputs": [
        {
          "name": "stdout",
          "output_type": "stream",
          "text": [
            "tensor([[1., 1., 1.],\n",
            "        [1., 1., 1.]])\n",
            "tensor([[0.3470, 0.4973, 0.7194],\n",
            "        [0.0627, 0.2424, 0.4971]])\n"
          ]
        }
      ],
      "source": [
        "tensor12 = torch.ones(2, 3)\n",
        "tensor13 = torch.rand(2, 3)\n",
        "\n",
        "print(tensor12)\n",
        "print(tensor13)"
      ]
    },
    {
      "cell_type": "code",
      "execution_count": 27,
      "metadata": {
        "colab": {
          "base_uri": "https://localhost:8080/"
        },
        "id": "FTxgiFECWHhm",
        "outputId": "2bd017a0-2ebc-45d3-b0d6-82a2b2a693dc"
      },
      "outputs": [
        {
          "name": "stdout",
          "output_type": "stream",
          "text": [
            "tensor([[1.3470, 1.4973, 1.7194],\n",
            "        [1.0627, 1.2424, 1.4971]])\n",
            "tensor([[0.6530, 0.5027, 0.2806],\n",
            "        [0.9373, 0.7576, 0.5029]])\n",
            "tensor([[0.3470, 0.4973, 0.7194],\n",
            "        [0.0627, 0.2424, 0.4971]])\n",
            "tensor([[1., 1., 1.],\n",
            "        [1., 1., 1.]])\n"
          ]
        }
      ],
      "source": [
        "# elementwise addition\n",
        "tensor14 = tensor12 + tensor13\n",
        "# torch.add(tensor12,tensor13)\n",
        "print(tensor14)\n",
        "\n",
        "# elementwise subtraction\n",
        "tensor15 = tensor12 - tensor13\n",
        "# torch.sub(tensor12, tensor13)\n",
        "print(tensor15)\n",
        "\n",
        "# elementwise multiplication\n",
        "tensor16 = tensor12 * tensor13\n",
        "# torch.mul(tensor12,tensor13)\n",
        "print(tensor16)\n",
        "\n",
        "# elementwise division\n",
        "tensor17 = tensor12 / tensor12\n",
        "# torch.div(tensor12,tensor12)\n",
        "print(tensor17)"
      ]
    },
    {
      "cell_type": "markdown",
      "metadata": {
        "id": "5442TYFVdxK0"
      },
      "source": [
        "## Manipulating a tensor"
      ]
    },
    {
      "cell_type": "code",
      "execution_count": 28,
      "metadata": {
        "colab": {
          "base_uri": "https://localhost:8080/"
        },
        "id": "NKA3bb_ZWvyZ",
        "outputId": "e53949e9-e8e1-4966-e0f6-16b09a649051"
      },
      "outputs": [
        {
          "data": {
            "text/plain": [
              "tensor([[0, 0, 0, 2, 1],\n",
              "        [0, 0, 0, 0, 2],\n",
              "        [0, 1, 1, 2, 1],\n",
              "        [2, 1, 0, 0, 2]])"
            ]
          },
          "execution_count": 28,
          "metadata": {},
          "output_type": "execute_result"
        }
      ],
      "source": [
        "x = torch.randint(0,3,(4,5))\n",
        "x"
      ]
    },
    {
      "cell_type": "code",
      "execution_count": 29,
      "metadata": {
        "id": "uq-_CbV58yeB"
      },
      "outputs": [],
      "source": [
        "y = x.view(20)\n",
        "z = x.view(-1, 10)"
      ]
    },
    {
      "cell_type": "code",
      "execution_count": 30,
      "metadata": {
        "colab": {
          "base_uri": "https://localhost:8080/"
        },
        "id": "lR7DoNwK8vXh",
        "outputId": "434169e2-d944-4ba9-cfd4-c19d07a301d1"
      },
      "outputs": [
        {
          "name": "stdout",
          "output_type": "stream",
          "text": [
            "torch.Size([4, 5]) torch.Size([20]) torch.Size([2, 10])\n"
          ]
        }
      ],
      "source": [
        "print(x.size(), y.size(), z.size())"
      ]
    },
    {
      "cell_type": "code",
      "execution_count": 31,
      "metadata": {
        "colab": {
          "base_uri": "https://localhost:8080/"
        },
        "id": "cDN7HIskOs9c",
        "outputId": "13fcbe30-b817-4233-d64b-5066fc41ae29"
      },
      "outputs": [
        {
          "data": {
            "text/plain": [
              "tensor([[0, 1, 2],\n",
              "        [3, 4, 5],\n",
              "        [6, 7, 8]])"
            ]
          },
          "execution_count": 31,
          "metadata": {},
          "output_type": "execute_result"
        }
      ],
      "source": [
        "\n",
        "a = torch.arange(9)\n",
        "a = a.reshape(3,3)\n",
        "a"
      ]
    },
    {
      "cell_type": "code",
      "execution_count": 32,
      "metadata": {
        "colab": {
          "base_uri": "https://localhost:8080/"
        },
        "id": "CDKvcs7mOSaw",
        "outputId": "26fa0dee-9d6e-483b-c7cc-24cdc9a78c07"
      },
      "outputs": [
        {
          "data": {
            "text/plain": [
              "tensor([[0, 5, 8],\n",
              "        [7, 1, 4],\n",
              "        [3, 0, 6]])"
            ]
          },
          "execution_count": 32,
          "metadata": {},
          "output_type": "execute_result"
        }
      ],
      "source": [
        "b = torch.randint(0,9,(3,3)) ## torch.randint(low=0, high, size)\n",
        "b"
      ]
    },
    {
      "cell_type": "code",
      "execution_count": 33,
      "metadata": {
        "colab": {
          "base_uri": "https://localhost:8080/"
        },
        "id": "0TrzajuPPXz0",
        "outputId": "672791fd-6f97-414a-ae6c-a39b793e1e46"
      },
      "outputs": [
        {
          "data": {
            "text/plain": [
              "tensor([[0, 1, 2, 0, 5, 8],\n",
              "        [3, 4, 5, 7, 1, 4],\n",
              "        [6, 7, 8, 3, 0, 6]])"
            ]
          },
          "execution_count": 33,
          "metadata": {},
          "output_type": "execute_result"
        }
      ],
      "source": [
        "c = torch.cat((a,b),dim=1)\n",
        "c"
      ]
    },
    {
      "cell_type": "code",
      "execution_count": 34,
      "metadata": {
        "colab": {
          "base_uri": "https://localhost:8080/"
        },
        "id": "GreZ98T_VI3o",
        "outputId": "ad3a6624-ba4e-45c0-afe6-e825dad98bff"
      },
      "outputs": [
        {
          "data": {
            "text/plain": [
              "tensor([[0, 1, 2],\n",
              "        [3, 4, 5],\n",
              "        [6, 7, 8],\n",
              "        [0, 5, 8],\n",
              "        [7, 1, 4],\n",
              "        [3, 0, 6]])"
            ]
          },
          "execution_count": 34,
          "metadata": {},
          "output_type": "execute_result"
        }
      ],
      "source": [
        "d = torch.cat((a,b),dim=0)\n",
        "d"
      ]
    },
    {
      "cell_type": "code",
      "execution_count": 35,
      "metadata": {
        "colab": {
          "base_uri": "https://localhost:8080/"
        },
        "id": "vCTJOZJ5PvX0",
        "outputId": "ee50a3d6-cd02-4c1e-8415-4224a46cd452"
      },
      "outputs": [
        {
          "data": {
            "text/plain": [
              "tensor([[0, 1, 2],\n",
              "        [3, 4, 5],\n",
              "        [6, 7, 8]])"
            ]
          },
          "execution_count": 35,
          "metadata": {},
          "output_type": "execute_result"
        }
      ],
      "source": [
        "a"
      ]
    },
    {
      "cell_type": "code",
      "execution_count": 36,
      "metadata": {
        "colab": {
          "base_uri": "https://localhost:8080/"
        },
        "id": "9RX3QfStYKHR",
        "outputId": "fbcd4c1a-5db0-4d64-d527-d4d9354b4bf6"
      },
      "outputs": [
        {
          "data": {
            "text/plain": [
              "tensor([[[0, 2, 7, 5, 4],\n",
              "         [5, 6, 8, 3, 0],\n",
              "         [5, 1, 0, 5, 2]],\n",
              "\n",
              "        [[6, 0, 8, 1, 5],\n",
              "         [3, 3, 8, 1, 3],\n",
              "         [5, 5, 3, 6, 2]]])"
            ]
          },
          "execution_count": 36,
          "metadata": {},
          "output_type": "execute_result"
        }
      ],
      "source": [
        "p = torch.randint(0,9,(2,3,5))\n",
        "p"
      ]
    },
    {
      "cell_type": "code",
      "execution_count": 37,
      "metadata": {
        "colab": {
          "base_uri": "https://localhost:8080/"
        },
        "id": "AvQgpqxMT3Xw",
        "outputId": "15f1342a-f398-4cf9-b703-6d821a8e0eb8"
      },
      "outputs": [
        {
          "data": {
            "text/plain": [
              "tensor(112)"
            ]
          },
          "execution_count": 37,
          "metadata": {},
          "output_type": "execute_result"
        }
      ],
      "source": [
        "p.sum()"
      ]
    },
    {
      "cell_type": "code",
      "execution_count": 38,
      "metadata": {
        "colab": {
          "base_uri": "https://localhost:8080/"
        },
        "id": "YQaqsIROT8RB",
        "outputId": "b58ad3f4-5e93-4f1a-8e8e-52a229374177"
      },
      "outputs": [
        {
          "data": {
            "text/plain": [
              "tensor([[ 6,  2, 15,  6,  9],\n",
              "        [ 8,  9, 16,  4,  3],\n",
              "        [10,  6,  3, 11,  4]])"
            ]
          },
          "execution_count": 38,
          "metadata": {},
          "output_type": "execute_result"
        }
      ],
      "source": [
        "p.sum(dim = 0)"
      ]
    },
    {
      "cell_type": "code",
      "execution_count": 39,
      "metadata": {
        "colab": {
          "base_uri": "https://localhost:8080/"
        },
        "id": "WZtsuKxjYpf7",
        "outputId": "1dd8eb7f-4bf5-4f48-dfcb-d8818bde63e0"
      },
      "outputs": [
        {
          "data": {
            "text/plain": [
              "torch.Size([3, 5])"
            ]
          },
          "execution_count": 39,
          "metadata": {},
          "output_type": "execute_result"
        }
      ],
      "source": [
        "p.sum(dim = 0).shape"
      ]
    },
    {
      "cell_type": "code",
      "execution_count": 40,
      "metadata": {
        "colab": {
          "base_uri": "https://localhost:8080/"
        },
        "id": "zlpHyAW0ZpWk",
        "outputId": "f1dd123b-2e0f-4f17-9ae0-19dd92b1b77b"
      },
      "outputs": [
        {
          "data": {
            "text/plain": [
              "tensor([[[0, 2, 7, 5, 4],\n",
              "         [5, 6, 8, 3, 0],\n",
              "         [5, 1, 0, 5, 2]],\n",
              "\n",
              "        [[6, 0, 8, 1, 5],\n",
              "         [3, 3, 8, 1, 3],\n",
              "         [5, 5, 3, 6, 2]]])"
            ]
          },
          "execution_count": 40,
          "metadata": {},
          "output_type": "execute_result"
        }
      ],
      "source": [
        "p"
      ]
    },
    {
      "cell_type": "code",
      "execution_count": 41,
      "metadata": {
        "colab": {
          "base_uri": "https://localhost:8080/"
        },
        "id": "-YxFtzCoT_re",
        "outputId": "7f416780-d11b-4f42-d759-d91be96646c2"
      },
      "outputs": [
        {
          "data": {
            "text/plain": [
              "tensor([[10,  9, 15, 13,  6],\n",
              "        [14,  8, 19,  8, 10]])"
            ]
          },
          "execution_count": 41,
          "metadata": {},
          "output_type": "execute_result"
        }
      ],
      "source": [
        "p.sum(dim = 1)"
      ]
    },
    {
      "cell_type": "code",
      "execution_count": 42,
      "metadata": {
        "colab": {
          "base_uri": "https://localhost:8080/"
        },
        "id": "QoT36gQQZWN4",
        "outputId": "f251d264-2fed-4bd0-bd7b-5fdb53e6d737"
      },
      "outputs": [
        {
          "data": {
            "text/plain": [
              "torch.Size([2, 5])"
            ]
          },
          "execution_count": 42,
          "metadata": {},
          "output_type": "execute_result"
        }
      ],
      "source": [
        "p.sum(dim = 1).shape"
      ]
    },
    {
      "cell_type": "code",
      "execution_count": 43,
      "metadata": {
        "colab": {
          "base_uri": "https://localhost:8080/"
        },
        "id": "DPy7kyhxZr0Y",
        "outputId": "06657b0c-c26c-4425-b9b2-df34c01507b1"
      },
      "outputs": [
        {
          "data": {
            "text/plain": [
              "tensor([[[0, 2, 7, 5, 4],\n",
              "         [5, 6, 8, 3, 0],\n",
              "         [5, 1, 0, 5, 2]],\n",
              "\n",
              "        [[6, 0, 8, 1, 5],\n",
              "         [3, 3, 8, 1, 3],\n",
              "         [5, 5, 3, 6, 2]]])"
            ]
          },
          "execution_count": 43,
          "metadata": {},
          "output_type": "execute_result"
        }
      ],
      "source": [
        "p"
      ]
    },
    {
      "cell_type": "code",
      "execution_count": 44,
      "metadata": {
        "colab": {
          "base_uri": "https://localhost:8080/"
        },
        "id": "0ttYEkpqZZNN",
        "outputId": "6dd02eb5-c16a-437f-9a5b-5fcbc12cdd1d"
      },
      "outputs": [
        {
          "data": {
            "text/plain": [
              "tensor([[18, 22, 13],\n",
              "        [20, 18, 21]])"
            ]
          },
          "execution_count": 44,
          "metadata": {},
          "output_type": "execute_result"
        }
      ],
      "source": [
        "p.sum(dim = 2)"
      ]
    },
    {
      "cell_type": "code",
      "execution_count": 45,
      "metadata": {
        "colab": {
          "base_uri": "https://localhost:8080/"
        },
        "id": "Omf4rZc_ZdJn",
        "outputId": "7bcf8256-3306-4243-ee60-7c267c362e87"
      },
      "outputs": [
        {
          "data": {
            "text/plain": [
              "torch.Size([2, 3])"
            ]
          },
          "execution_count": 45,
          "metadata": {},
          "output_type": "execute_result"
        }
      ],
      "source": [
        "p.sum(dim = 2).shape"
      ]
    },
    {
      "cell_type": "markdown",
      "metadata": {
        "id": "mnHGIbBnbMCT"
      },
      "source": [
        "## Autograd"
      ]
    },
    {
      "cell_type": "markdown",
      "metadata": {
        "id": "7mRemQG9ceEc"
      },
      "source": [
        "$$y=3\\sigma(x) + 5$$"
      ]
    },
    {
      "cell_type": "markdown",
      "metadata": {
        "id": "tlb518e6dLl7"
      },
      "source": [
        "$$\\frac{\\partial y}{ \\partial x} = 3*\\sigma(x)(1-\\sigma(x))$$"
      ]
    },
    {
      "cell_type": "markdown",
      "metadata": {
        "id": "H8LCmqu2dhkr"
      },
      "source": [
        "$$\\frac{\\partial y}{ \\partial x} = 3*\\sigma(2)(1-\\sigma(2))=3*0.8808*(1-0.8808)=0.3149$$"
      ]
    },
    {
      "cell_type": "code",
      "execution_count": 46,
      "metadata": {
        "colab": {
          "base_uri": "https://localhost:8080/"
        },
        "id": "dNDBzDSBmGjL",
        "outputId": "1c999ee1-05c4-4314-cbce-867a66547f8c"
      },
      "outputs": [
        {
          "data": {
            "text/plain": [
              "(False, True)"
            ]
          },
          "execution_count": 46,
          "metadata": {},
          "output_type": "execute_result"
        }
      ],
      "source": [
        "import torch\n",
        "\n",
        "x = torch.tensor(2.0)\n",
        "x.requires_grad,x.is_leaf"
      ]
    },
    {
      "cell_type": "code",
      "execution_count": 47,
      "metadata": {
        "colab": {
          "base_uri": "https://localhost:8080/"
        },
        "id": "aMGUmp1SmW9g",
        "outputId": "4098d02e-573e-468b-eee6-7ac5bcb2e4aa"
      },
      "outputs": [
        {
          "data": {
            "text/plain": [
              "(False, True)"
            ]
          },
          "execution_count": 47,
          "metadata": {},
          "output_type": "execute_result"
        }
      ],
      "source": [
        "y = 3 * torch.sigmoid(x) + 5\n",
        "y.requires_grad,y.is_leaf"
      ]
    },
    {
      "cell_type": "code",
      "execution_count": 48,
      "metadata": {
        "colab": {
          "base_uri": "https://localhost:8080/"
        },
        "id": "Sov55chWbZxe",
        "outputId": "c2e42ea1-3fdf-42d0-f7e7-d7aed531c63c"
      },
      "outputs": [
        {
          "data": {
            "text/plain": [
              "(True, True)"
            ]
          },
          "execution_count": 48,
          "metadata": {},
          "output_type": "execute_result"
        }
      ],
      "source": [
        "import torch\n",
        "\n",
        "x = torch.tensor(2.0, requires_grad=True)\n",
        "\n",
        "x.requires_grad, x.is_leaf"
      ]
    },
    {
      "cell_type": "code",
      "execution_count": 49,
      "metadata": {
        "colab": {
          "base_uri": "https://localhost:8080/"
        },
        "id": "SYmNfN4Um3qX",
        "outputId": "54ebca63-a66f-412c-e1d2-245280400c51"
      },
      "outputs": [
        {
          "data": {
            "text/plain": [
              "tensor(7.6424, grad_fn=<AddBackward0>)"
            ]
          },
          "execution_count": 49,
          "metadata": {},
          "output_type": "execute_result"
        }
      ],
      "source": [
        "y = 3 * torch.sigmoid(x) + 5\n",
        "y"
      ]
    },
    {
      "cell_type": "code",
      "execution_count": 50,
      "metadata": {
        "colab": {
          "base_uri": "https://localhost:8080/"
        },
        "id": "p23Y9d7OfhGE",
        "outputId": "f089ea5d-fa48-4abf-cc5f-d977c022f9e8"
      },
      "outputs": [
        {
          "data": {
            "text/plain": [
              "(True, False)"
            ]
          },
          "execution_count": 50,
          "metadata": {},
          "output_type": "execute_result"
        }
      ],
      "source": [
        "y.requires_grad,y.is_leaf"
      ]
    },
    {
      "cell_type": "code",
      "execution_count": 51,
      "metadata": {
        "colab": {
          "base_uri": "https://localhost:8080/"
        },
        "id": "zbdesTDDfhwK",
        "outputId": "76fe72e3-36b7-4fb5-a610-23cae3fc86d2"
      },
      "outputs": [
        {
          "name": "stdout",
          "output_type": "stream",
          "text": [
            "None\n"
          ]
        }
      ],
      "source": [
        "print(x.grad_fn)"
      ]
    },
    {
      "cell_type": "code",
      "execution_count": 52,
      "metadata": {
        "colab": {
          "base_uri": "https://localhost:8080/"
        },
        "id": "Wijukf5qgBMr",
        "outputId": "b4a3774b-6acf-4914-c83c-d902c0572ffe"
      },
      "outputs": [
        {
          "name": "stdout",
          "output_type": "stream",
          "text": [
            "<AddBackward0 object at 0x000001F3A3F12EC0>\n"
          ]
        }
      ],
      "source": [
        "print(y.grad_fn)"
      ]
    },
    {
      "cell_type": "code",
      "execution_count": 53,
      "metadata": {
        "colab": {
          "base_uri": "https://localhost:8080/"
        },
        "id": "nGYKAyMXfwF1",
        "outputId": "b281ef23-4372-4044-b972-144dbb8007df"
      },
      "outputs": [
        {
          "name": "stdout",
          "output_type": "stream",
          "text": [
            "None\n",
            "tensor(0.3150)\n"
          ]
        }
      ],
      "source": [
        "print(x.grad)\n",
        "y.backward()\n",
        "print(x.grad) # dy/dx"
      ]
    },
    {
      "cell_type": "code",
      "execution_count": 54,
      "metadata": {
        "colab": {
          "base_uri": "https://localhost:8080/"
        },
        "id": "OOQzVLT-oebm",
        "outputId": "782b6a07-d4e3-4199-918c-42a0c5fa10ea"
      },
      "outputs": [
        {
          "data": {
            "text/plain": [
              "tensor(0.3150)"
            ]
          },
          "execution_count": 54,
          "metadata": {},
          "output_type": "execute_result"
        }
      ],
      "source": [
        "x.grad.zero_()\n",
        "y = 3 * torch.sigmoid(x) + 5\n",
        "y.backward()\n",
        "x.grad"
      ]
    },
    {
      "cell_type": "code",
      "execution_count": 55,
      "metadata": {
        "colab": {
          "base_uri": "https://localhost:8080/"
        },
        "id": "LeWIzeG-iora",
        "outputId": "edfa593f-4972-4236-fa13-6350d91b8e34"
      },
      "outputs": [
        {
          "data": {
            "text/plain": [
              "tensor([[0.7723, 0.8293, 0.4210, 0.1410, 0.0588],\n",
              "        [0.9132, 0.5159, 0.5433, 0.4953, 0.3792]], requires_grad=True)"
            ]
          },
          "execution_count": 55,
          "metadata": {},
          "output_type": "execute_result"
        }
      ],
      "source": [
        "a = torch.rand(2, 5, requires_grad=True)\n",
        "a"
      ]
    },
    {
      "cell_type": "code",
      "execution_count": 56,
      "metadata": {
        "colab": {
          "base_uri": "https://localhost:8080/"
        },
        "id": "y8gfgbSpG9aT",
        "outputId": "cffe3ca0-2492-4030-c055-6f7363997510"
      },
      "outputs": [
        {
          "data": {
            "text/plain": [
              "tensor([[6.3688, 6.5170, 5.5982, 5.1609, 5.0623],\n",
              "        [6.7471, 5.7820, 5.8386, 5.7406, 5.5229]], grad_fn=<AddBackward0>)"
            ]
          },
          "execution_count": 56,
          "metadata": {},
          "output_type": "execute_result"
        }
      ],
      "source": [
        "b = a * a + a + 5\n",
        "b"
      ]
    },
    {
      "cell_type": "code",
      "execution_count": 57,
      "metadata": {
        "colab": {
          "base_uri": "https://localhost:8080/"
        },
        "id": "NkYnk5Z4H2-Q",
        "outputId": "8f604fb2-5254-4fdf-c74b-cbdc995da84b"
      },
      "outputs": [
        {
          "data": {
            "text/plain": [
              "tensor(5.8338, grad_fn=<MeanBackward0>)"
            ]
          },
          "execution_count": 57,
          "metadata": {},
          "output_type": "execute_result"
        }
      ],
      "source": [
        "c = b.mean()\n",
        "c"
      ]
    },
    {
      "cell_type": "code",
      "execution_count": 58,
      "metadata": {
        "colab": {
          "base_uri": "https://localhost:8080/"
        },
        "id": "gTlqGFNSgkSe",
        "outputId": "fecbaf2e-fa31-48df-8352-e6b917b97451"
      },
      "outputs": [
        {
          "data": {
            "text/plain": [
              "(True, False, False)"
            ]
          },
          "execution_count": 58,
          "metadata": {},
          "output_type": "execute_result"
        }
      ],
      "source": [
        "a.is_leaf,b.is_leaf,c.is_leaf"
      ]
    },
    {
      "cell_type": "code",
      "execution_count": 59,
      "metadata": {
        "id": "VLeKGNAwgyFn"
      },
      "outputs": [],
      "source": [
        "b.retain_grad()"
      ]
    },
    {
      "cell_type": "code",
      "execution_count": 60,
      "metadata": {
        "colab": {
          "base_uri": "https://localhost:8080/"
        },
        "id": "2UnE9EnLIO2W",
        "outputId": "749298d1-f3d3-4547-c4a6-a5c7d752fa6d"
      },
      "outputs": [
        {
          "name": "stdout",
          "output_type": "stream",
          "text": [
            "None\n",
            "tensor([[0.2545, 0.2659, 0.1842, 0.1282, 0.1118],\n",
            "        [0.2826, 0.2032, 0.2087, 0.1991, 0.1758]])\n"
          ]
        }
      ],
      "source": [
        "print(a.grad) # Before gradient computation\n",
        "c.backward()\n",
        "print(a.grad) # After gradient computation #dc/da"
      ]
    },
    {
      "cell_type": "code",
      "execution_count": 61,
      "metadata": {
        "colab": {
          "base_uri": "https://localhost:8080/"
        },
        "id": "BOt8Y6uGg_xk",
        "outputId": "74212992-236e-49ac-fbf6-e2141d772a22"
      },
      "outputs": [
        {
          "data": {
            "text/plain": [
              "tensor([[0.1000, 0.1000, 0.1000, 0.1000, 0.1000],\n",
              "        [0.1000, 0.1000, 0.1000, 0.1000, 0.1000]])"
            ]
          },
          "execution_count": 61,
          "metadata": {},
          "output_type": "execute_result"
        }
      ],
      "source": [
        "b.grad"
      ]
    },
    {
      "cell_type": "markdown",
      "metadata": {
        "id": "MQP_rugHjtcG"
      },
      "source": [
        "### Gradient Descent"
      ]
    },
    {
      "cell_type": "code",
      "execution_count": 62,
      "metadata": {
        "id": "B1itqZ9ylehv"
      },
      "outputs": [],
      "source": [
        "# Generate train data # y = 5 * x + 3\n",
        "x = torch.linspace(-1.0,1.0,15).reshape(15,1)\n",
        "w = torch.tensor([5])\n",
        "b = torch.tensor([3])\n",
        "y = w * x + b"
      ]
    },
    {
      "cell_type": "code",
      "execution_count": 63,
      "metadata": {
        "colab": {
          "base_uri": "https://localhost:8080/"
        },
        "id": "XoQ5l1cqjrhb",
        "outputId": "1a33fa27-0941-4545-f934-e4bf47ddf512"
      },
      "outputs": [
        {
          "name": "stdout",
          "output_type": "stream",
          "text": [
            "w: tensor([[-0.2900]], requires_grad=True)\n",
            "b: tensor([[-0.9491]], requires_grad=True)\n"
          ]
        }
      ],
      "source": [
        "# Parameter initialization\n",
        "w = torch.randn(size=(1,1), requires_grad=True)\n",
        "b = torch.randn(size=(1,1), requires_grad=True)\n",
        "\n",
        "def forward(x):\n",
        "    return w * x + b\n",
        "\n",
        "def loss(y, y_pred):\n",
        "    return ((y_pred - y)**2).mean()\n",
        "\n",
        "print('w:',w)\n",
        "print('b:',b)"
      ]
    },
    {
      "cell_type": "code",
      "execution_count": 64,
      "metadata": {
        "colab": {
          "base_uri": "https://localhost:8080/"
        },
        "id": "hdKOO88oj3Ir",
        "outputId": "56b9e082-58df-436d-d205-d068b65b94c5"
      },
      "outputs": [
        {
          "name": "stdout",
          "output_type": "stream",
          "text": [
            "epoch 10: w = 0.802, b = 0.873,loss = 12.152\n",
            "epoch 20: w = 1.669, b = 1.854,loss = 5.913\n",
            "epoch 30: w = 2.356, b = 2.383,loss = 3.219\n",
            "epoch 40: w = 2.902, b = 2.668,loss = 1.881\n",
            "epoch 50: w = 3.335, b = 2.821,loss = 1.142\n",
            "epoch 60: w = 3.679, b = 2.904,loss = 0.707\n",
            "epoch 70: w = 3.952, b = 2.948,loss = 0.442\n",
            "epoch 80: w = 4.168, b = 2.972,loss = 0.277\n",
            "epoch 90: w = 4.340, b = 2.985,loss = 0.174\n",
            "epoch 100: w = 4.476, b = 2.992,loss = 0.110\n",
            "epoch 110: w = 4.584, b = 2.996,loss = 0.069\n",
            "epoch 120: w = 4.670, b = 2.998,loss = 0.043\n",
            "epoch 130: w = 4.738, b = 2.999,loss = 0.027\n",
            "epoch 140: w = 4.792, b = 2.999,loss = 0.017\n",
            "epoch 150: w = 4.835, b = 3.000,loss = 0.011\n",
            "epoch 160: w = 4.869, b = 3.000,loss = 0.007\n",
            "epoch 170: w = 4.896, b = 3.000,loss = 0.004\n",
            "epoch 180: w = 4.918, b = 3.000,loss = 0.003\n"
          ]
        }
      ],
      "source": [
        "# Define hyperparameters\n",
        "learning_rate = 0.03\n",
        "num_epochs = 180\n",
        "\n",
        "# Train the model\n",
        "for epoch in range(num_epochs):\n",
        "    y_pred = forward(x)\n",
        "\n",
        "    l = loss(y, y_pred)\n",
        "\n",
        "    l.backward()\n",
        "\n",
        "    with torch.no_grad():\n",
        "      w -= learning_rate * w.grad\n",
        "      b -= learning_rate * b.grad\n",
        "\n",
        "    w.grad.zero_()\n",
        "    b.grad.zero_()\n",
        "\n",
        "    if (epoch+1) % 10 == 0:\n",
        "        print(f'epoch {epoch+1}: w = {w.item():.3f}, b = {b.item():.3f},loss = {l.item():.3f}')"
      ]
    },
    {
      "cell_type": "markdown",
      "metadata": {
        "id": "xUn8YynVydjP"
      },
      "source": [
        "## Neural Networks"
      ]
    },
    {
      "cell_type": "code",
      "execution_count": 65,
      "metadata": {
        "id": "mgCSzNOHydJy"
      },
      "outputs": [],
      "source": [
        "import torch\n",
        "import torch.nn as nn\n",
        "#import torch.nn.functional as F\n",
        "import torch.optim as optim\n",
        "\n",
        "from torchvision import datasets,transforms"
      ]
    },
    {
      "cell_type": "code",
      "execution_count": 66,
      "metadata": {
        "id": "ik2W138nEb9X"
      },
      "outputs": [
        {
          "name": "stdout",
          "output_type": "stream",
          "text": [
            "cpu\n"
          ]
        }
      ],
      "source": [
        "device = torch.device('cuda' if torch.cuda.is_available() else 'cpu')\n",
        "print(device)"
      ]
    },
    {
      "cell_type": "code",
      "execution_count": 67,
      "metadata": {
        "colab": {
          "base_uri": "https://localhost:8080/"
        },
        "id": "Gg4ZLyenHkGz",
        "outputId": "c0078033-7aa5-432a-9aae-7a0b466f7db9"
      },
      "outputs": [
        {
          "name": "stdout",
          "output_type": "stream",
          "text": [
            "['CIFAR10', 'CIFAR100', 'CLEVRClassification', 'CREStereo', 'Caltech101', 'Caltech256', 'CarlaStereo', 'CelebA', 'Cityscapes', 'CocoCaptions', 'CocoDetection', 'Country211', 'DTD', 'DatasetFolder', 'EMNIST', 'ETH3DStereo', 'EuroSAT', 'FER2013', 'FGVCAircraft', 'FakeData', 'FallingThingsStereo', 'FashionMNIST', 'Flickr30k', 'Flickr8k', 'Flowers102', 'FlyingChairs', 'FlyingThings3D', 'Food101', 'GTSRB', 'HD1K', 'HMDB51', 'INaturalist', 'ImageFolder', 'ImageNet', 'Imagenette', 'InStereo2k', 'KMNIST', 'Kinetics', 'Kitti', 'Kitti2012Stereo', 'Kitti2015Stereo', 'KittiFlow', 'LFWPairs', 'LFWPeople', 'LSUN', 'LSUNClass', 'MNIST', 'Middlebury2014Stereo', 'MovingMNIST', 'Omniglot', 'OxfordIIITPet', 'PCAM', 'PhotoTour', 'Places365', 'QMNIST', 'RenderedSST2', 'SBDataset', 'SBU', 'SEMEION', 'STL10', 'SUN397', 'SVHN', 'SceneFlowStereo', 'Sintel', 'SintelStereo', 'StanfordCars', 'UCF101', 'USPS', 'VOCDetection', 'VOCSegmentation', 'VisionDataset', 'WIDERFace', '__all__', '__builtins__', '__cached__', '__doc__', '__file__', '__getattr__', '__loader__', '__name__', '__package__', '__path__', '__spec__', '_optical_flow', '_stereo_matching', 'caltech', 'celeba', 'cifar', 'cityscapes', 'clevr', 'coco', 'country211', 'dtd', 'eurosat', 'fakedata', 'fer2013', 'fgvc_aircraft', 'flickr', 'flowers102', 'folder', 'food101', 'gtsrb', 'hmdb51', 'imagenet', 'imagenette', 'inaturalist', 'kinetics', 'kitti', 'lfw', 'lsun', 'mnist', 'moving_mnist', 'omniglot', 'oxford_iiit_pet', 'pcam', 'phototour', 'places365', 'rendered_sst2', 'sbd', 'sbu', 'semeion', 'stanford_cars', 'stl10', 'sun397', 'svhn', 'ucf101', 'usps', 'utils', 'video_utils', 'vision', 'voc', 'widerface']\n"
          ]
        }
      ],
      "source": [
        "print(dir(datasets))"
      ]
    },
    {
      "cell_type": "code",
      "execution_count": 68,
      "metadata": {
        "id": "0MmpY18FxIqm"
      },
      "outputs": [],
      "source": [
        "## Hyper-parameters\n",
        "hidden_size = 400\n",
        "num_epochs = 8\n",
        "batch_size = 32\n",
        "learning_rate = 0.0001"
      ]
    },
    {
      "cell_type": "code",
      "execution_count": 69,
      "metadata": {
        "id": "VetrSviG0V4H"
      },
      "outputs": [],
      "source": [
        "## Load the MNIST dataset\n",
        "train_dataset = datasets.MNIST(root='./data', train=True, download=True, transform=transforms.ToTensor())\n",
        "test_dataset = datasets.MNIST(root='./data', train=False, download=True, transform=transforms.ToTensor())"
      ]
    },
    {
      "cell_type": "code",
      "execution_count": 70,
      "metadata": {
        "colab": {
          "base_uri": "https://localhost:8080/"
        },
        "id": "c0h-djeY1To4",
        "outputId": "93b43b41-a50c-4f17-c009-2ccd4bc097d6"
      },
      "outputs": [
        {
          "name": "stdout",
          "output_type": "stream",
          "text": [
            "['0 - zero', '1 - one', '2 - two', '3 - three', '4 - four', '5 - five', '6 - six', '7 - seven', '8 - eight', '9 - nine']\n",
            "torch.Size([60000, 28, 28])\n",
            "torch.Size([60000])\n"
          ]
        }
      ],
      "source": [
        "## Training Data\n",
        "print(train_dataset.classes)\n",
        "print(train_dataset.data.shape)\n",
        "print(train_dataset.targets.shape)"
      ]
    },
    {
      "cell_type": "code",
      "execution_count": 71,
      "metadata": {
        "colab": {
          "base_uri": "https://localhost:8080/"
        },
        "id": "tjDag3Hp2jB7",
        "outputId": "0d7e551a-8258-4d00-cd5d-b94e2f57c108"
      },
      "outputs": [
        {
          "name": "stdout",
          "output_type": "stream",
          "text": [
            "['0 - zero', '1 - one', '2 - two', '3 - three', '4 - four', '5 - five', '6 - six', '7 - seven', '8 - eight', '9 - nine']\n",
            "torch.Size([10000, 28, 28])\n",
            "torch.Size([10000])\n"
          ]
        }
      ],
      "source": [
        "## Test Data\n",
        "print(test_dataset.classes)\n",
        "print(test_dataset.data.shape)\n",
        "print(test_dataset.targets.shape)"
      ]
    },
    {
      "cell_type": "code",
      "execution_count": 72,
      "metadata": {
        "id": "taemlQ95FeR2"
      },
      "outputs": [],
      "source": [
        "in_features = 784 # Input size - 28 x 28\n",
        "out_features = 10 # no. of classes"
      ]
    },
    {
      "cell_type": "code",
      "execution_count": 73,
      "metadata": {
        "id": "PjwnlYS3x9mf"
      },
      "outputs": [],
      "source": [
        "train_dataloader = torch.utils.data.DataLoader(dataset=train_dataset, batch_size = batch_size, shuffle=True)\n",
        "\n",
        "test_dataloader = torch.utils.data.DataLoader(dataset=test_dataset, batch_size = batch_size, shuffle=False)"
      ]
    },
    {
      "cell_type": "code",
      "execution_count": 74,
      "metadata": {
        "colab": {
          "base_uri": "https://localhost:8080/",
          "height": 205
        },
        "id": "jk5wE3gB28yO",
        "outputId": "a883375c-0b48-42df-ec79-f5835abc4a46"
      },
      "outputs": [
        {
          "name": "stdout",
          "output_type": "stream",
          "text": [
            "torch.Size([32, 1, 28, 28])\n",
            "torch.Size([32])\n"
          ]
        },
        {
          "data": {
            "image/png": "[encoded data removed]",
            "text/plain": [
              "<Figure size 640x480 with 5 Axes>"
            ]
          },
          "metadata": {},
          "output_type": "display_data"
        }
      ],
      "source": [
        "import matplotlib.pyplot as plt\n",
        "\n",
        "data = iter(train_dataloader)\n",
        "imgs,labels = next(data)\n",
        "print(imgs.shape)\n",
        "print(labels.shape)\n",
        "\n",
        "for i in range(5):\n",
        "    plt.subplot(1,5,i+1)\n",
        "    plt.imshow(imgs[i][0], cmap='gray')\n",
        "    plt.xlabel(f'Label = {labels[i].item()}')\n",
        "plt.show()"
      ]
    },
    {
      "cell_type": "code",
      "execution_count": 75,
      "metadata": {
        "id": "qw7zfOSI877B"
      },
      "outputs": [],
      "source": [
        "class BasicNeuralNet(nn.Module):\n",
        "    def __init__(self,hidden_size):\n",
        "        super(BasicNeuralNet, self).__init__()\n",
        "        self.hidden_size = hidden_size\n",
        "        self.layer1 = nn.Linear(in_features, self.hidden_size)\n",
        "        self.layer2 = nn.Linear(self.hidden_size, out_features)\n",
        "\n",
        "    def forward(self, x):\n",
        "        out = self.layer1(x)\n",
        "        out = torch.relu(out)\n",
        "        out = self.layer2(out)\n",
        "        return out\n",
        "\n",
        "model = BasicNeuralNet(hidden_size).to(device)"
      ]
    },
    {
      "cell_type": "code",
      "execution_count": 79,
      "metadata": {
        "id": "ysdP1TaHGZgW"
      },
      "outputs": [],
      "source": [
        "w1,b1,w2,b2 = list(model.parameters())"
      ]
    },
    {
      "cell_type": "code",
      "execution_count": 77,
      "metadata": {
        "colab": {
          "base_uri": "https://localhost:8080/"
        },
        "id": "Wg0j1WgdSHTz",
        "outputId": "dc03e7d7-5396-46c5-d330-602d049628b1"
      },
      "outputs": [
        {
          "name": "stdout",
          "output_type": "stream",
          "text": [
            "Parameter containing:\n",
            "tensor([[ 0.0189, -0.0120,  0.0308,  ...,  0.0095,  0.0305,  0.0342],\n",
            "        [ 0.0099,  0.0189,  0.0313,  ...,  0.0356, -0.0018, -0.0224],\n",
            "        [-0.0261,  0.0192, -0.0011,  ..., -0.0221,  0.0352,  0.0024],\n",
            "        ...,\n",
            "        [-0.0120,  0.0225,  0.0231,  ..., -0.0194,  0.0055,  0.0142],\n",
            "        [-0.0029,  0.0326, -0.0208,  ..., -0.0070, -0.0244, -0.0232],\n",
            "        [-0.0305, -0.0264,  0.0173,  ..., -0.0299, -0.0189,  0.0015]],\n",
            "       requires_grad=True) Parameter containing:\n",
            "tensor([ 2.5948e-02,  8.7860e-03,  2.5357e-02,  3.4340e-03, -1.4196e-02,\n",
            "        -1.9489e-02,  4.5489e-04, -1.9620e-02,  1.8011e-02, -9.3835e-03,\n",
            "         1.2861e-02, -3.3669e-02,  1.9735e-02, -1.6426e-02,  3.2420e-02,\n",
            "        -1.8335e-02,  2.3371e-02,  1.6925e-02,  2.9320e-02, -3.0444e-02,\n",
            "        -1.6565e-02,  1.2345e-02, -2.2668e-02,  2.6337e-02,  2.8229e-02,\n",
            "         2.2871e-02,  1.8502e-03, -7.3929e-03,  1.7912e-02, -1.2000e-02,\n",
            "        -2.1467e-02,  1.5841e-02,  1.9744e-02, -2.7978e-02, -5.6568e-03,\n",
            "        -3.7299e-03,  1.9931e-02, -2.8530e-02, -2.2362e-03, -1.4022e-03,\n",
            "        -4.8080e-03,  1.9648e-02, -9.9889e-03, -4.6295e-03,  7.0036e-03,\n",
            "         1.7768e-02,  2.0823e-03, -4.2330e-03,  2.5470e-02, -3.1267e-02,\n",
            "        -2.0720e-03, -2.2469e-02, -2.0610e-02,  3.3255e-02, -2.4492e-02,\n",
            "         1.4924e-02,  1.3470e-02, -5.4530e-04,  1.8543e-02, -5.7519e-03,\n",
            "         3.0093e-03, -1.0841e-02,  2.1936e-02, -3.3017e-02,  3.5039e-02,\n",
            "         2.4307e-02, -3.0112e-02, -2.7865e-02,  3.5065e-02,  2.2090e-04,\n",
            "        -6.1428e-03,  2.2354e-02,  3.4981e-02,  2.7274e-02,  1.9680e-02,\n",
            "         1.9575e-02,  2.8614e-02,  1.3008e-02, -1.4813e-02,  1.0214e-02,\n",
            "        -1.2656e-03,  9.7454e-03, -3.2286e-02, -8.9218e-03,  1.8511e-02,\n",
            "         2.1800e-02, -9.6776e-03, -1.4670e-02,  1.6165e-02, -1.0995e-02,\n",
            "        -2.8795e-02,  3.1604e-02, -5.8159e-03,  2.2054e-02, -9.3468e-03,\n",
            "         1.0649e-02,  2.1700e-03,  3.4113e-02, -3.1231e-02, -9.4001e-03,\n",
            "         2.1464e-02,  2.0367e-02, -2.8578e-02, -3.3627e-02,  1.0159e-02,\n",
            "        -2.9819e-02,  2.1958e-02, -5.8369e-03,  1.1208e-04,  1.1855e-02,\n",
            "         2.5231e-02, -3.1505e-02, -1.7892e-02, -3.0489e-03,  8.2598e-03,\n",
            "        -3.2926e-02, -2.8186e-02,  2.9746e-02, -2.8056e-02,  1.0494e-02,\n",
            "        -2.5044e-02, -3.0528e-02, -2.4599e-02,  1.3381e-05, -1.0272e-02,\n",
            "         1.1549e-02,  1.5758e-02, -1.7965e-02,  1.0699e-02, -1.4100e-02,\n",
            "        -1.8754e-02,  1.4140e-02,  2.6406e-02,  7.9070e-03,  3.3616e-02,\n",
            "         1.6648e-03,  3.2106e-02, -1.0079e-02, -1.8852e-02, -8.8549e-03,\n",
            "        -1.4298e-02,  2.6837e-02,  1.3317e-02, -9.6691e-03, -1.6526e-02,\n",
            "         1.6496e-02, -4.8329e-03,  3.4177e-02, -1.0506e-02,  2.5245e-03,\n",
            "        -1.4313e-02, -2.6705e-03, -1.3493e-02,  1.6994e-02, -2.2862e-02,\n",
            "         2.3985e-03,  9.6005e-03, -1.0821e-02,  2.0379e-02,  1.7499e-02,\n",
            "         3.3211e-02, -2.4699e-02,  2.8815e-02,  2.2103e-02,  1.6325e-02,\n",
            "        -3.5198e-02, -1.8636e-02,  2.3281e-02, -3.2315e-02,  1.8400e-03,\n",
            "         2.4484e-02,  2.2987e-02,  5.2762e-03,  1.3182e-02,  1.0202e-02,\n",
            "         2.4176e-03,  1.6823e-02, -1.9464e-02, -5.5106e-03,  8.8120e-03,\n",
            "        -1.8004e-02,  3.2335e-02,  1.8789e-02,  2.7851e-02, -2.2943e-02,\n",
            "         2.2822e-02, -3.4379e-02,  8.8114e-03,  2.3976e-04,  1.5941e-02,\n",
            "         2.2780e-02,  6.6481e-03,  2.9014e-02, -1.0324e-02, -1.8680e-02,\n",
            "         2.3387e-02,  2.5572e-02,  4.2806e-03,  1.2531e-02, -3.5235e-02,\n",
            "        -2.0290e-02,  2.0318e-02,  2.5262e-02, -3.0122e-02,  1.7716e-03,\n",
            "        -2.9935e-02,  2.7392e-02,  1.0051e-02, -1.1228e-02,  3.5058e-02,\n",
            "         2.7482e-02, -6.9405e-03,  1.4986e-02, -4.4316e-04,  2.8641e-02,\n",
            "         3.4847e-02,  2.3911e-02,  7.1871e-04,  2.1332e-02,  2.3496e-02,\n",
            "        -8.1134e-03, -1.3243e-02, -1.6113e-03, -6.9956e-03,  2.2485e-02,\n",
            "        -1.1151e-03, -3.2277e-02, -2.4184e-02,  1.2128e-02,  3.2169e-02,\n",
            "         3.1479e-03, -2.5538e-02, -3.5488e-02, -1.7234e-02, -3.3877e-03,\n",
            "         7.3026e-03, -3.4269e-02, -2.3161e-03, -2.7535e-02, -5.5513e-03,\n",
            "        -1.5142e-02, -2.2947e-03,  1.9173e-02, -2.0510e-02,  2.9486e-02,\n",
            "        -7.4611e-03,  2.5302e-02,  1.1123e-02,  3.5443e-02, -1.0824e-02,\n",
            "         1.3670e-02,  4.1230e-04,  1.2602e-02, -4.0544e-03, -2.0981e-02,\n",
            "        -1.3392e-02,  3.0142e-02,  2.0713e-02, -2.2363e-02,  1.2736e-02,\n",
            "        -3.0353e-02,  2.5891e-02, -8.2029e-03, -1.8794e-02,  5.9774e-03,\n",
            "        -2.4830e-02, -3.4230e-02,  8.9575e-03, -7.8154e-03,  2.6225e-02,\n",
            "        -2.6175e-02,  1.8968e-02,  2.9952e-03,  2.4220e-02,  3.0469e-02,\n",
            "        -2.1057e-03, -8.5336e-03,  1.8856e-02, -1.8145e-02, -1.7898e-03,\n",
            "         3.9323e-03,  1.1428e-02, -1.7819e-02, -6.0648e-05,  3.3468e-02,\n",
            "         4.4876e-04,  1.1398e-02,  2.7763e-02,  2.1204e-02, -1.6535e-02,\n",
            "        -3.0951e-02,  1.7293e-02,  5.4584e-03, -1.1673e-03,  1.3473e-02,\n",
            "        -3.2217e-02, -6.2177e-03,  1.8194e-02,  1.6641e-02,  1.2554e-02,\n",
            "         2.0796e-02, -1.2255e-02, -3.3810e-02,  6.7902e-03, -1.0784e-02,\n",
            "        -3.0185e-02,  4.3957e-03, -2.0726e-02,  2.9247e-02, -9.3749e-03,\n",
            "        -1.3881e-02,  1.7557e-02,  3.5176e-02,  3.4986e-02,  7.9231e-04,\n",
            "        -2.7404e-02, -1.8680e-02, -5.0790e-03,  1.5228e-02, -2.9515e-02,\n",
            "         9.9138e-03,  3.4023e-02, -2.7067e-02,  2.7304e-02,  2.7295e-02,\n",
            "        -1.1622e-02,  5.6532e-03,  2.5645e-02, -1.8812e-02,  1.8441e-04,\n",
            "        -4.2528e-03,  1.8340e-02,  2.2279e-02,  2.4064e-02, -2.6227e-02,\n",
            "         3.4089e-04,  2.5793e-02,  1.9076e-03, -1.2271e-02,  8.5500e-03,\n",
            "         3.4029e-02,  3.5331e-02, -3.5207e-02, -1.4278e-02, -4.0967e-04,\n",
            "         3.0578e-02,  6.2043e-03,  1.9592e-02,  1.3226e-02,  1.6857e-03,\n",
            "         4.0268e-03, -3.4243e-02, -1.3615e-02,  3.4213e-02,  1.7069e-02,\n",
            "        -5.9816e-03,  2.6069e-03, -3.3702e-02, -1.5584e-02,  2.1698e-02,\n",
            "        -1.9399e-02, -1.5285e-02, -2.4651e-02,  6.3294e-03,  1.6630e-02,\n",
            "         3.0598e-02, -7.7364e-03,  2.9124e-02, -2.0558e-03, -2.1117e-02,\n",
            "        -1.1371e-03,  6.9119e-03,  3.2071e-02,  6.2730e-03, -5.9930e-03,\n",
            "         1.0951e-02, -2.9145e-03, -1.8871e-02, -1.4192e-02,  4.4513e-03,\n",
            "         1.0436e-02,  2.9009e-02, -2.3618e-02, -1.7521e-02,  2.0753e-02,\n",
            "        -6.9543e-03, -4.8811e-03, -2.1789e-02,  2.8143e-03,  5.6477e-03,\n",
            "         2.6546e-02,  2.5549e-02, -1.6893e-02, -2.2683e-02, -3.5660e-02,\n",
            "         5.4289e-03,  2.9726e-02, -9.8228e-03, -3.1599e-02, -5.3354e-04],\n",
            "       requires_grad=True)\n",
            "torch.Size([400, 784])\n",
            "torch.Size([400])\n"
          ]
        }
      ],
      "source": [
        "# First linear layer\n",
        "print(w1,b1)\n",
        "print(w1.shape)\n",
        "print(b1.shape)"
      ]
    },
    {
      "cell_type": "code",
      "execution_count": 78,
      "metadata": {
        "colab": {
          "base_uri": "https://localhost:8080/"
        },
        "id": "TKgt0AodSVDO",
        "outputId": "0c5e6af8-3eed-431e-c614-472a403c9339"
      },
      "outputs": [
        {
          "name": "stdout",
          "output_type": "stream",
          "text": [
            "Parameter containing:\n",
            "tensor([[-0.0032, -0.0318,  0.0216,  ..., -0.0351,  0.0134,  0.0260],\n",
            "        [ 0.0161, -0.0423, -0.0044,  ..., -0.0430, -0.0069, -0.0048],\n",
            "        [-0.0274,  0.0113, -0.0209,  ...,  0.0364, -0.0336,  0.0380],\n",
            "        ...,\n",
            "        [ 0.0403, -0.0073,  0.0020,  ...,  0.0258, -0.0151, -0.0342],\n",
            "        [-0.0079, -0.0406, -0.0068,  ...,  0.0176,  0.0129, -0.0455],\n",
            "        [-0.0167,  0.0398,  0.0313,  ..., -0.0357,  0.0006,  0.0200]],\n",
            "       requires_grad=True) Parameter containing:\n",
            "tensor([-0.0211,  0.0167, -0.0417,  0.0285, -0.0187,  0.0440, -0.0490, -0.0346,\n",
            "        -0.0489,  0.0186], requires_grad=True)\n",
            "torch.Size([10, 400])\n",
            "torch.Size([10])\n"
          ]
        }
      ],
      "source": [
        "# Second linear layer\n",
        "print(w2,b2)\n",
        "print(w2.shape)\n",
        "print(b2.shape)"
      ]
    },
    {
      "cell_type": "code",
      "execution_count": 80,
      "metadata": {
        "id": "_0kc0IAEEo31"
      },
      "outputs": [],
      "source": [
        "criterion = nn.CrossEntropyLoss() # Loss\n",
        "optimizer = optim.Adam(model.parameters(), lr=learning_rate)"
      ]
    },
    {
      "cell_type": "code",
      "execution_count": 81,
      "metadata": {
        "colab": {
          "base_uri": "https://localhost:8080/"
        },
        "id": "Cs7gzjxVEs8x",
        "outputId": "bc5cce92-88ea-4c01-808f-00de74be0de9"
      },
      "outputs": [
        {
          "name": "stdout",
          "output_type": "stream",
          "text": [
            "Epoch 0, Step 0/1875, Loss: 2.294\n",
            "Epoch 0, Step 300/1875, Loss: 0.658\n",
            "Epoch 0, Step 600/1875, Loss: 0.425\n",
            "Epoch 0, Step 900/1875, Loss: 0.481\n",
            "Epoch 0, Step 1200/1875, Loss: 0.294\n",
            "Epoch 0, Step 1500/1875, Loss: 0.181\n",
            "Epoch 0, Step 1800/1875, Loss: 0.474\n",
            "Epoch 1, Step 0/1875, Loss: 0.388\n",
            "Epoch 1, Step 300/1875, Loss: 0.147\n",
            "Epoch 1, Step 600/1875, Loss: 0.382\n",
            "Epoch 1, Step 900/1875, Loss: 0.257\n",
            "Epoch 1, Step 1200/1875, Loss: 0.062\n",
            "Epoch 1, Step 1500/1875, Loss: 0.116\n",
            "Epoch 1, Step 1800/1875, Loss: 0.183\n",
            "Epoch 2, Step 0/1875, Loss: 0.185\n",
            "Epoch 2, Step 300/1875, Loss: 0.452\n",
            "Epoch 2, Step 600/1875, Loss: 0.472\n",
            "Epoch 2, Step 900/1875, Loss: 0.283\n",
            "Epoch 2, Step 1200/1875, Loss: 0.178\n",
            "Epoch 2, Step 1500/1875, Loss: 0.249\n",
            "Epoch 2, Step 1800/1875, Loss: 0.178\n",
            "Epoch 3, Step 0/1875, Loss: 0.096\n",
            "Epoch 3, Step 300/1875, Loss: 0.301\n",
            "Epoch 3, Step 600/1875, Loss: 0.058\n",
            "Epoch 3, Step 900/1875, Loss: 0.149\n",
            "Epoch 3, Step 1200/1875, Loss: 0.141\n",
            "Epoch 3, Step 1500/1875, Loss: 0.052\n",
            "Epoch 3, Step 1800/1875, Loss: 0.098\n",
            "Epoch 4, Step 0/1875, Loss: 0.147\n",
            "Epoch 4, Step 300/1875, Loss: 0.465\n",
            "Epoch 4, Step 600/1875, Loss: 0.149\n",
            "Epoch 4, Step 900/1875, Loss: 0.199\n",
            "Epoch 4, Step 1200/1875, Loss: 0.262\n",
            "Epoch 4, Step 1500/1875, Loss: 0.045\n",
            "Epoch 4, Step 1800/1875, Loss: 0.154\n",
            "Epoch 5, Step 0/1875, Loss: 0.231\n",
            "Epoch 5, Step 300/1875, Loss: 0.118\n",
            "Epoch 5, Step 600/1875, Loss: 0.102\n",
            "Epoch 5, Step 900/1875, Loss: 0.142\n",
            "Epoch 5, Step 1200/1875, Loss: 0.197\n",
            "Epoch 5, Step 1500/1875, Loss: 0.101\n",
            "Epoch 5, Step 1800/1875, Loss: 0.104\n",
            "Epoch 6, Step 0/1875, Loss: 0.034\n",
            "Epoch 6, Step 300/1875, Loss: 0.189\n",
            "Epoch 6, Step 600/1875, Loss: 0.225\n",
            "Epoch 6, Step 900/1875, Loss: 0.073\n",
            "Epoch 6, Step 1200/1875, Loss: 0.139\n",
            "Epoch 6, Step 1500/1875, Loss: 0.088\n",
            "Epoch 6, Step 1800/1875, Loss: 0.406\n",
            "Epoch 7, Step 0/1875, Loss: 0.152\n",
            "Epoch 7, Step 300/1875, Loss: 0.118\n",
            "Epoch 7, Step 600/1875, Loss: 0.095\n",
            "Epoch 7, Step 900/1875, Loss: 0.052\n",
            "Epoch 7, Step 1200/1875, Loss: 0.054\n",
            "Epoch 7, Step 1500/1875, Loss: 0.049\n",
            "Epoch 7, Step 1800/1875, Loss: 0.360\n"
          ]
        }
      ],
      "source": [
        "# Training\n",
        "total_steps = len(train_dataloader)\n",
        "for epoch in range(num_epochs):\n",
        "    for i, (images, labels) in enumerate(train_dataloader):\n",
        "        images = images.reshape(-1, 28*28).to(device)\n",
        "        labels = labels.to(device)\n",
        "\n",
        "        # Forward pass\n",
        "        outputs = model(images)\n",
        "\n",
        "        loss = criterion(outputs, labels)\n",
        "\n",
        "        # Backpropagation\n",
        "        loss.backward()\n",
        "\n",
        "        optimizer.step() # Parameter update\n",
        "        optimizer.zero_grad()\n",
        "\n",
        "        if i % 300 == 0:\n",
        "            print (f'Epoch {epoch}, Step {i}/{total_steps}, Loss: {loss.item():.3f}')"
      ]
    },
    {
      "cell_type": "code",
      "execution_count": 82,
      "metadata": {
        "colab": {
          "base_uri": "https://localhost:8080/"
        },
        "id": "Hek2mZrxE8eo",
        "outputId": "70901b6e-af77-4722-ac1e-8a69893d1115"
      },
      "outputs": [
        {
          "name": "stdout",
          "output_type": "stream",
          "text": [
            "Accuracy: 96.95 %\n"
          ]
        }
      ],
      "source": [
        "# Test the model\n",
        "with torch.no_grad():\n",
        "    correct = 0\n",
        "    num_samples = len(test_dataloader.dataset)\n",
        "\n",
        "    for imgs, labels in test_dataloader:\n",
        "        imgs = imgs.reshape(-1, 28*28).to(device)\n",
        "        labels = labels.to(device)\n",
        "\n",
        "        outputs = model(imgs)\n",
        "\n",
        "        _, predicted = torch.max(outputs, 1)\n",
        "        correct += (predicted == labels).sum().item()\n",
        "\n",
        "    acc = correct / num_samples\n",
        "    print(f'Accuracy: {100*acc} %')"
      ]
    },
    {
      "cell_type": "code",
      "execution_count": null,
      "metadata": {
        "id": "Q5HNduv1Z130"
      },
      "outputs": [],
      "source": []
    }
  ],
  "metadata": {
    "colab": {
      "provenance": []
    },
    "kernelspec": {
      "display_name": "myenv",
      "language": "python",
      "name": "python3"
    },
    "language_info": {
      "codemirror_mode": {
        "name": "ipython",
        "version": 3
      },
      "file_extension": ".py",
      "mimetype": "text/x-python",
      "name": "python",
      "nbconvert_exporter": "python",
      "pygments_lexer": "ipython3",
      "version": "3.12.11"
    }
  },
  "nbformat": 4,
  "nbformat_minor": 0
}
