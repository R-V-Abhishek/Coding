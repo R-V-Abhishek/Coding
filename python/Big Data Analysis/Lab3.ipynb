{
 "cells": [
  {
   "cell_type": "code",
   "execution_count": 16,
   "id": "6c701874",
   "metadata": {},
   "outputs": [],
   "source": [
    "import time\n",
    "import random\n",
    "from datetime import datetime\n"
   ]
  },
  {
   "cell_type": "code",
   "execution_count": 17,
   "id": "fec45d39",
   "metadata": {},
   "outputs": [
    {
     "name": "stdout",
     "output_type": "stream",
     "text": [
      "===DATA VELOCITY SIMULATION===\n"
     ]
    }
   ],
   "source": [
    "print(\"===DATA VELOCITY SIMULATION===\")\n"
   ]
  },
  {
   "cell_type": "code",
   "execution_count": 21,
   "id": "4e0b10fb",
   "metadata": {},
   "outputs": [],
   "source": [
    "def generate_data(num_records = 50):\n",
    "    data = []\n",
    "    for _ in range(num_records):\n",
    "        record = {\n",
    "            \"id\": _ + 1,\n",
    "            \"timestamp\": datetime.now(),\n",
    "            \"temperature\": round(random.uniform(20.0, 50.0), 1),\n",
    "            \"sensor\": random.choice([\"A\", \"B\", \"C\"])\n",
    "        }\n",
    "        data.append(record)\n",
    "        time.sleep(0.1)\n",
    "\n",
    "        if record[\"temperature\"] > 32:\n",
    "            print(f\"ALERT: High temperature {record['temperature']} detected! from sensor {record['sensor']}\")\n",
    "    return data"
   ]
  },
  {
   "cell_type": "code",
   "execution_count": 22,
   "id": "b49fb8b0",
   "metadata": {},
   "outputs": [],
   "source": [
    "def process_batch(data):\n",
    "    print(\"BATCH PROCESSING RESULTS\")\n",
    "    print(f\"Total records processed: {len(data)}\")\n",
    "    temps = [record['temperature'] for record in data]\n",
    "    avg_temp = sum(temps) / len(temps) if temps else 0\n",
    "    high_temp_count = sum(1 for temp in temps if temp > 32)\n",
    "\n",
    "    print(f\"Average temperature: {avg_temp:.1f}\")\n",
    "    print(f\"High temperature alerts triggered: {high_temp_count}\")\n",
    "\n",
    "    \n"
   ]
  },
  {
   "cell_type": "code",
   "execution_count": 23,
   "id": "80e07ed6",
   "metadata": {},
   "outputs": [
    {
     "name": "stdout",
     "output_type": "stream",
     "text": [
      "Starting real time processing\n",
      "ALERT: High temperature 43.9 detected! from sensor B\n",
      "ALERT: High temperature 35.4 detected! from sensor C\n",
      "ALERT: High temperature 37.8 detected! from sensor C\n",
      "ALERT: High temperature 37.1 detected! from sensor B\n",
      "ALERT: High temperature 37.1 detected! from sensor A\n",
      "ALERT: High temperature 37.7 detected! from sensor B\n",
      "ALERT: High temperature 39.1 detected! from sensor B\n",
      "ALERT: High temperature 41.8 detected! from sensor C\n",
      "ALERT: High temperature 34.9 detected! from sensor B\n",
      "BATCH PROCESSING RESULTS\n",
      "Total records processed: 20\n",
      "Average temperature: 31.3\n",
      "High temperature alerts triggered: 9\n",
      "\n",
      "COMPARISON\n",
      "Real time: Immediate Alerts, higher complexity\n",
      "BATCH: Periodic Processing, better for analysis\n",
      "Simulation Complete!\n"
     ]
    }
   ],
   "source": [
    "print(\"Starting real time processing\")\n",
    "data = generate_data(20)\n",
    "\n",
    "process_batch(data)\n",
    "\n",
    "print(\"\\nCOMPARISON\")\n",
    "\n",
    "print(\"Real time: Immediate Alerts, higher complexity\")\n",
    "print(\"BATCH: Periodic Processing, better for analysis\")\n",
    "print(\"Simulation Complete!\")"
   ]
  },
  {
   "cell_type": "code",
   "execution_count": null,
   "id": "3a8478f3",
   "metadata": {},
   "outputs": [],
   "source": []
  }
 ],
 "metadata": {
  "kernelspec": {
   "display_name": "deep-learning",
   "language": "python",
   "name": "python3"
  },
  "language_info": {
   "codemirror_mode": {
    "name": "ipython",
    "version": 3
   },
   "file_extension": ".py",
   "mimetype": "text/x-python",
   "name": "python",
   "nbconvert_exporter": "python",
   "pygments_lexer": "ipython3",
   "version": "3.11.13"
  }
 },
 "nbformat": 4,
 "nbformat_minor": 5
}
